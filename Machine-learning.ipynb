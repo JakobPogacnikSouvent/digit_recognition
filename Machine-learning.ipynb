{
 "cells": [
  {
   "cell_type": "markdown",
   "metadata": {},
   "source": [
    "Projekt uporablja knjižnice:\n",
    "1. **tensorflow** za konstrukcijo nevronske mreže in strojno učenje\n",
    "2. **pillow** za prikazovanje slik\n",
    "3. **numpy** za pretvorbo podatkov v tip s katerim deluje tensorflow"
   ]
  },
  {
   "cell_type": "code",
   "execution_count": 9,
   "metadata": {},
   "outputs": [],
   "source": [
    "import tensorflow as tf #The project was made with version 2.1.0\n",
    "from PIL import Image\n",
    "import numpy as np"
   ]
  },
  {
   "cell_type": "markdown",
   "metadata": {},
   "source": [
    "Najprej potrebujemo podatke za učenje modela, za kar bomo uporabili nabor podatkov ročno napisanih števk MNIST s strani http://yann.lecun.com/exdb/mnist/ . To je pogosto uporabljena knjižnica pri projektih z nevronskimi mrežami tako da tensorflow že vsebuje podatke te knjižnice v tf.keras.datasets.mnist\n",
    "\n",
    "x_train in y_train vsebuje podatke in odgovore, ki bodo uporabljeni pri učenju, x_test in y_test pa podatke ter odgovore, ki bodo uporabljeni pri preverjanju uspešnosti mreže."
   ]
  },
  {
   "cell_type": "code",
   "execution_count": 10,
   "metadata": {},
   "outputs": [],
   "source": [
    "#Select mnist dataset\n",
    "mnist = tf.keras.datasets.mnist\n",
    "\n",
    "#Load data\n",
    "(x_train, y_train), (x_test, y_test) = mnist.load_data()\n",
    "\n",
    "#And convert to float\n",
    "x_train, x_test = x_train / 255.0, x_test / 255.0"
   ]
  },
  {
   "cell_type": "markdown",
   "metadata": {},
   "source": [
    "Sledi kreacija nevronske mreže. tf.keras.models.Sequential je standardna feedforward nevronska mreža s štirimi plastmi.\n",
    "1. Prva plast je Flatten, ki sprejme 2D list oblike 28x28 (sliko števke).\n",
    "2. Druga skrita plast ima 128 nevronov z aktivacijsko funkcijo relu.\n",
    "3. Med drugo in zadnjo plastjo je še plast Dropout, ki med učenjem naključno izkljaplja nevrone kar izboljša povezavo med sosednjimi nevroni in ustvari boljši rezultat učenja.\n",
    "4. Zadnja plast ima 10 nevronov, vsak izmed katerih predstavlja eno števko od 0 do 9.\n",
    "\n",
    "Vse uteži in biasi nevronov so na začetku naključno izbrani."
   ]
  },
  {
   "cell_type": "code",
   "execution_count": 11,
   "metadata": {},
   "outputs": [],
   "source": [
    "#Create neural network\n",
    "model = tf.keras.models.Sequential([\n",
    "  tf.keras.layers.Flatten(input_shape=(28, 28)),\n",
    "  tf.keras.layers.Dense(128, activation='relu'),\n",
    "  tf.keras.layers.Dropout(0.2),\n",
    "  tf.keras.layers.Dense(10)\n",
    "])"
   ]
  },
  {
   "cell_type": "markdown",
   "metadata": {},
   "source": [
    "Pred učenjem potrebuje mreža še funkcijo izgube, ki primerja odgovor mreže s pravilnim odgovorom ter izračuna velikost napake nevronske mreže. Napaka je 0, če mreža napove pravilen odgovor.  "
   ]
  },
  {
   "cell_type": "code",
   "execution_count": 12,
   "metadata": {},
   "outputs": [],
   "source": [
    "#Initialize loss function\n",
    "loss_fn = tf.keras.losses.SparseCategoricalCrossentropy(from_logits=True)"
   ]
  },
  {
   "cell_type": "markdown",
   "metadata": {},
   "source": [
    "Pri compilanju modela izberemo optimizer adam, funkcijo izgube in kaj poiskušamo doseči pri učenju. V tem primeru želimo optimizirati natančnost nevronske mreže."
   ]
  },
  {
   "cell_type": "code",
   "execution_count": 13,
   "metadata": {},
   "outputs": [],
   "source": [
    "#Compile model for training\n",
    "model.compile(optimizer='adam',\n",
    "              loss=loss_fn,\n",
    "              metrics=['accuracy'])"
   ]
  },
  {
   "cell_type": "markdown",
   "metadata": {},
   "source": [
    "Nevronsko mrežo bomo na učnih podatkih učili 5 epoh, kar pomeni da bomo skozi mrežo 5-krat poslali učne podatke in prilagodili uteži in povezave med nevroni da bomo izboljšali natančnost mreže. Ob koncu vsake epohe izpišemo izgubo mreže in njeno natančnost. Čez epohe se izguba mreže manjša in njena natančnost veča. Opazno je, da za natančnost cca 90% potrebujemo samo eno epoho, da dosežemo natančnost 97-98% pa potrebujemo še 4 nadaljnje epohe."
   ]
  },
  {
   "cell_type": "code",
   "execution_count": 14,
   "metadata": {},
   "outputs": [
    {
     "name": "stdout",
     "output_type": "stream",
     "text": [
      "Train on 60000 samples\n",
      "Epoch 1/5\n",
      "60000/60000 [==============================] - 17s 284us/sample - loss: 0.2964 - accuracy: 0.9148\n",
      "Epoch 2/5\n",
      "60000/60000 [==============================] - 17s 284us/sample - loss: 0.1401 - accuracy: 0.9582\n",
      "Epoch 3/5\n",
      "60000/60000 [==============================] - 18s 299us/sample - loss: 0.1061 - accuracy: 0.9675\n",
      "Epoch 4/5\n",
      "60000/60000 [==============================] - 19s 319us/sample - loss: 0.0864 - accuracy: 0.9733\n",
      "Epoch 5/5\n",
      "60000/60000 [==============================] - 19s 317us/sample - loss: 0.0751 - accuracy: 0.9764\n"
     ]
    },
    {
     "data": {
      "text/plain": [
       "<tensorflow.python.keras.callbacks.History at 0x7f3b900388d0>"
      ]
     },
     "execution_count": 14,
     "metadata": {},
     "output_type": "execute_result"
    }
   ],
   "source": [
    "#Train model\n",
    "model.fit(x_train, y_train, epochs=5)"
   ]
  },
  {
   "cell_type": "markdown",
   "metadata": {},
   "source": [
    "Za natančno evaluacijo modela ga je potrebno preiskusiti na podatkih, ki niso bili vključeni v učne podatke. S tem preverimo natančnost in se prepričamo, da model deluje na novih podatkih in ni overfitan."
   ]
  },
  {
   "cell_type": "code",
   "execution_count": 15,
   "metadata": {},
   "outputs": [
    {
     "name": "stdout",
     "output_type": "stream",
     "text": [
      "10000/10000 - 2s - loss: 0.0745 - accuracy: 0.9765\n"
     ]
    },
    {
     "data": {
      "text/plain": [
       "[0.0745175982091343, 0.9765]"
      ]
     },
     "execution_count": 15,
     "metadata": {},
     "output_type": "execute_result"
    }
   ],
   "source": [
    "#Evaluate model on new data\n",
    "model.evaluate(x_test,  y_test, verbose=2)"
   ]
  },
  {
   "cell_type": "markdown",
   "metadata": {},
   "source": [
    "Preden začnemo uporabljati model ga spremenimo v probability_model tako, da mu dodamo še eno plast, ki spremeni dejanski output modela v verjetnost, ki je bolj človeško berljiva kot dejanski output."
   ]
  },
  {
   "cell_type": "code",
   "execution_count": 17,
   "metadata": {},
   "outputs": [],
   "source": [
    "#Add probability function to create new model with human output\n",
    "probability_model = tf.keras.Sequential([\n",
    "  model,\n",
    "  tf.keras.layers.Softmax()\n",
    "])"
   ]
  },
  {
   "cell_type": "markdown",
   "metadata": {},
   "source": [
    "Spodnja koda izbere naključni primer iz testnih podatkov, ga prikaže kot sliko in izpiše napoved nevronske mreže ter pravilni odgovor."
   ]
  },
  {
   "cell_type": "code",
   "execution_count": 38,
   "metadata": {},
   "outputs": [],
   "source": [
    "def print_output(alist):\n",
    "    m = max(alist)\n",
    "    print(\"digit : probability\")\n",
    "    for i in range(10):\n",
    "        if alist[i] == m:\n",
    "            print(f\"--> {i} : {alist[i]}\")\n",
    "        else:\n",
    "            print(f\"    {i} : {alist[i]}\")"
   ]
  },
  {
   "cell_type": "code",
   "execution_count": 39,
   "metadata": {},
   "outputs": [
    {
     "name": "stdout",
     "output_type": "stream",
     "text": [
      "digit : probability\n",
      "    0 : 8.556535924242326e-09\n",
      "    1 : 4.525457508730568e-10\n",
      "    2 : 1.036860153291741e-09\n",
      "    3 : 4.924270797346253e-06\n",
      "    4 : 1.944005452969577e-05\n",
      "    5 : 3.927866146113956e-06\n",
      "    6 : 1.0058408966839849e-10\n",
      "    7 : 7.40578207114595e-06\n",
      "    8 : 1.3655082511832006e-05\n",
      "--> 9 : 0.9999505281448364\n",
      "Correct answer = 9\n"
     ]
    }
   ],
   "source": [
    "#Show random image from test data\n",
    "\n",
    "(_, _), (x_test, y_test) = mnist.load_data() #x_test must be int so pil works\n",
    "\n",
    "i = np.random.randint(0, len(x_test))\n",
    "\n",
    "Image.fromarray(x_test[i]).show() #x_test must be int so this line works\n",
    "\n",
    "a = np.ndarray(shape=(1,28,28))\n",
    "a[0] = x_test[i] / 255 #Convert back to \n",
    "\n",
    "print_output(probability_model(a).numpy()[0])\n",
    "print(f\"Correct answer = {y_test[i]}\")"
   ]
  },
  {
   "cell_type": "markdown",
   "metadata": {},
   "source": [
    "Spodnja koda prebere sliko digit.png, ki mora biti 28x28 digit kjer je ozadje črno in števka narisana z belo barvo ter izpiše napoved nevronske mreže."
   ]
  },
  {
   "cell_type": "code",
   "execution_count": 41,
   "metadata": {},
   "outputs": [
    {
     "name": "stdout",
     "output_type": "stream",
     "text": [
      "digit : probability\n",
      "    0 : 0.000571421580389142\n",
      "    1 : 0.001965818228200078\n",
      "    2 : 0.0003358131507411599\n",
      "    3 : 0.021000295877456665\n",
      "    4 : 0.0022862672340124846\n",
      "--> 5 : 0.8722296953201294\n",
      "    6 : 0.00016511617286596447\n",
      "    7 : 0.01023405883461237\n",
      "    8 : 0.08958566933870316\n",
      "    9 : 0.001625954289920628\n"
     ]
    }
   ],
   "source": [
    "#Test on self made image\n",
    "\n",
    "im = Image.open(\"digit.png\").convert(\"L\")\n",
    "\n",
    "a = np.ndarray(shape=(1,28,28))\n",
    "a[0] = np.asarray(im) / 255\n",
    "\n",
    "print_output(probability_model(a).numpy()[0])"
   ]
  },
  {
   "cell_type": "code",
   "execution_count": null,
   "metadata": {},
   "outputs": [],
   "source": []
  }
 ],
 "metadata": {
  "kernelspec": {
   "display_name": "Python 3",
   "language": "python",
   "name": "python3"
  },
  "language_info": {
   "codemirror_mode": {
    "name": "ipython",
    "version": 3
   },
   "file_extension": ".py",
   "mimetype": "text/x-python",
   "name": "python",
   "nbconvert_exporter": "python",
   "pygments_lexer": "ipython3",
   "version": "3.7.7"
  }
 },
 "nbformat": 4,
 "nbformat_minor": 4
}
